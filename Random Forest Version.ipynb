{
 "cells": [
  {
   "cell_type": "code",
   "execution_count": 1,
   "metadata": {},
   "outputs": [],
   "source": [
    "from boruta import BorutaPy"
   ]
  },
  {
   "cell_type": "code",
   "execution_count": 93,
   "metadata": {},
   "outputs": [],
   "source": [
    "import numpy as np\n",
    "import pandas as pd\n",
    "import seaborn as sns\n",
    "import statsmodels.api as sm \n",
    "import matplotlib.pyplot as plt\n",
    "import os\n",
    "from catboost import CatBoostClassifier, Pool, cv\n",
    "from sklearn.ensemble import RandomForestClassifier\n",
    "from sklearn.model_selection import cross_validate\n",
    "from scipy import stats\n",
    "from sklearn.model_selection import train_test_split\n",
    "from sklearn.preprocessing import MinMaxScaler, StandardScaler, OneHotEncoder,LabelEncoder\n",
    "from sklearn.metrics import f1_score, accuracy_score\n",
    "from imblearn.over_sampling import BorderlineSMOTE,ADASYN,SMOTE,SVMSMOTE\n",
    "from imblearn.ensemble import BalancedRandomForestClassifier\n",
    "from math import ceil\n",
    "from numpy.random import RandomState"
   ]
  },
  {
   "cell_type": "markdown",
   "metadata": {},
   "source": [
    "### Reading the Data"
   ]
  },
  {
   "cell_type": "code",
   "execution_count": 3,
   "metadata": {},
   "outputs": [
    {
     "data": {
      "text/html": [
       "<div>\n",
       "<style scoped>\n",
       "    .dataframe tbody tr th:only-of-type {\n",
       "        vertical-align: middle;\n",
       "    }\n",
       "\n",
       "    .dataframe tbody tr th {\n",
       "        vertical-align: top;\n",
       "    }\n",
       "\n",
       "    .dataframe thead th {\n",
       "        text-align: right;\n",
       "    }\n",
       "</style>\n",
       "<table border=\"1\" class=\"dataframe\">\n",
       "  <thead>\n",
       "    <tr style=\"text-align: right;\">\n",
       "      <th></th>\n",
       "      <th>CITIZEN_ID</th>\n",
       "      <th>Name</th>\n",
       "      <th>Birthday</th>\n",
       "      <th>Native Continent</th>\n",
       "      <th>Marital Status</th>\n",
       "      <th>Lives with</th>\n",
       "      <th>Base Area</th>\n",
       "      <th>Education Level</th>\n",
       "      <th>Years of Education</th>\n",
       "      <th>Employment Sector</th>\n",
       "      <th>Role</th>\n",
       "      <th>Working Hours per week</th>\n",
       "      <th>Money Received</th>\n",
       "      <th>Ticket Price</th>\n",
       "      <th>Income</th>\n",
       "    </tr>\n",
       "  </thead>\n",
       "  <tbody>\n",
       "    <tr>\n",
       "      <th>0</th>\n",
       "      <td>12486</td>\n",
       "      <td>Mr. Adam Glover</td>\n",
       "      <td>July 1,2003</td>\n",
       "      <td>Europe</td>\n",
       "      <td>Married</td>\n",
       "      <td>Wife</td>\n",
       "      <td>Northbury</td>\n",
       "      <td>High School + PostGraduation</td>\n",
       "      <td>13</td>\n",
       "      <td>Private Sector - Services</td>\n",
       "      <td>Repair &amp; constructions</td>\n",
       "      <td>40</td>\n",
       "      <td>0</td>\n",
       "      <td>2273</td>\n",
       "      <td>1</td>\n",
       "    </tr>\n",
       "    <tr>\n",
       "      <th>1</th>\n",
       "      <td>12487</td>\n",
       "      <td>Mr. Cameron McDonald</td>\n",
       "      <td>January 25,2006</td>\n",
       "      <td>Europe</td>\n",
       "      <td>Married</td>\n",
       "      <td>Wife</td>\n",
       "      <td>Northbury</td>\n",
       "      <td>Professional School</td>\n",
       "      <td>12</td>\n",
       "      <td>Public Sector - Others</td>\n",
       "      <td>Repair &amp; constructions</td>\n",
       "      <td>40</td>\n",
       "      <td>0</td>\n",
       "      <td>0</td>\n",
       "      <td>1</td>\n",
       "    </tr>\n",
       "    <tr>\n",
       "      <th>2</th>\n",
       "      <td>12488</td>\n",
       "      <td>Mr. Keith Davidson</td>\n",
       "      <td>May 10,2009</td>\n",
       "      <td>Europe</td>\n",
       "      <td>Married</td>\n",
       "      <td>Wife</td>\n",
       "      <td>Northbury</td>\n",
       "      <td>Professional School</td>\n",
       "      <td>12</td>\n",
       "      <td>Private Sector - Services</td>\n",
       "      <td>Sales</td>\n",
       "      <td>46</td>\n",
       "      <td>0</td>\n",
       "      <td>2321</td>\n",
       "      <td>1</td>\n",
       "    </tr>\n",
       "    <tr>\n",
       "      <th>3</th>\n",
       "      <td>12489</td>\n",
       "      <td>Mr. Alexander Gill</td>\n",
       "      <td>March 25,1985</td>\n",
       "      <td>Europe</td>\n",
       "      <td>Married</td>\n",
       "      <td>Wife</td>\n",
       "      <td>Northbury</td>\n",
       "      <td>High School - 2nd Cycle</td>\n",
       "      <td>11</td>\n",
       "      <td>Private Sector - Services</td>\n",
       "      <td>Security</td>\n",
       "      <td>37</td>\n",
       "      <td>5395</td>\n",
       "      <td>0</td>\n",
       "      <td>1</td>\n",
       "    </tr>\n",
       "    <tr>\n",
       "      <th>4</th>\n",
       "      <td>12490</td>\n",
       "      <td>Mr. Neil Piper</td>\n",
       "      <td>May 29,2015</td>\n",
       "      <td>Europe</td>\n",
       "      <td>Single</td>\n",
       "      <td>Other Family</td>\n",
       "      <td>Northbury</td>\n",
       "      <td>PhD</td>\n",
       "      <td>21</td>\n",
       "      <td>Self-Employed (Individual)</td>\n",
       "      <td>Professor</td>\n",
       "      <td>45</td>\n",
       "      <td>0</td>\n",
       "      <td>0</td>\n",
       "      <td>1</td>\n",
       "    </tr>\n",
       "  </tbody>\n",
       "</table>\n",
       "</div>"
      ],
      "text/plain": [
       "   CITIZEN_ID                  Name          Birthday Native Continent  \\\n",
       "0       12486       Mr. Adam Glover       July 1,2003           Europe   \n",
       "1       12487  Mr. Cameron McDonald   January 25,2006           Europe   \n",
       "2       12488    Mr. Keith Davidson       May 10,2009           Europe   \n",
       "3       12489    Mr. Alexander Gill     March 25,1985           Europe   \n",
       "4       12490        Mr. Neil Piper       May 29,2015           Europe   \n",
       "\n",
       "  Marital Status    Lives with  Base Area               Education Level  \\\n",
       "0        Married          Wife  Northbury  High School + PostGraduation   \n",
       "1        Married          Wife  Northbury           Professional School   \n",
       "2        Married          Wife  Northbury           Professional School   \n",
       "3        Married          Wife  Northbury       High School - 2nd Cycle   \n",
       "4         Single  Other Family  Northbury                           PhD   \n",
       "\n",
       "   Years of Education           Employment Sector                    Role  \\\n",
       "0                  13  Private Sector - Services   Repair & constructions   \n",
       "1                  12      Public Sector - Others  Repair & constructions   \n",
       "2                  12  Private Sector - Services                    Sales   \n",
       "3                  11  Private Sector - Services                 Security   \n",
       "4                  21  Self-Employed (Individual)               Professor   \n",
       "\n",
       "   Working Hours per week  Money Received  Ticket Price  Income  \n",
       "0                      40               0          2273       1  \n",
       "1                      40               0             0       1  \n",
       "2                      46               0          2321       1  \n",
       "3                      37            5395             0       1  \n",
       "4                      45               0             0       1  "
      ]
     },
     "execution_count": 3,
     "metadata": {},
     "output_type": "execute_result"
    }
   ],
   "source": [
    "df = pd.read_excel(\"train.xlsx\")\n",
    "df.head()"
   ]
  },
  {
   "cell_type": "code",
   "execution_count": 4,
   "metadata": {},
   "outputs": [],
   "source": [
    "original = df.copy()"
   ]
  },
  {
   "cell_type": "code",
   "execution_count": 5,
   "metadata": {},
   "outputs": [
    {
     "data": {
      "text/plain": [
       "CITIZEN_ID                   0\n",
       "Name                         0\n",
       "Birthday                     0\n",
       "Native Continent             0\n",
       "Marital Status               0\n",
       "Lives with                   0\n",
       "Base Area                  395\n",
       "Education Level              0\n",
       "Years of Education           0\n",
       "Employment Sector         1264\n",
       "Role                      1271\n",
       "Working Hours per week       0\n",
       "Money Received               0\n",
       "Ticket Price                 0\n",
       "Income                       0\n",
       "dtype: int64"
      ]
     },
     "execution_count": 5,
     "metadata": {},
     "output_type": "execute_result"
    }
   ],
   "source": [
    "df.replace(\"?\", np.nan, inplace=True)\n",
    "df.isna().sum()"
   ]
  },
  {
   "cell_type": "code",
   "execution_count": 6,
   "metadata": {},
   "outputs": [
    {
     "data": {
      "text/plain": [
       "CITIZEN_ID                0.000000\n",
       "Name                      0.000000\n",
       "Birthday                  0.000000\n",
       "Native Continent          0.000000\n",
       "Marital Status            0.000000\n",
       "Lives with                0.000000\n",
       "Base Area                 1.763393\n",
       "Education Level           0.000000\n",
       "Years of Education        0.000000\n",
       "Employment Sector         5.642857\n",
       "Role                      5.674107\n",
       "Working Hours per week    0.000000\n",
       "Money Received            0.000000\n",
       "Ticket Price              0.000000\n",
       "Income                    0.000000\n",
       "dtype: float64"
      ]
     },
     "execution_count": 6,
     "metadata": {},
     "output_type": "execute_result"
    }
   ],
   "source": [
    "df.isna().sum()/len(df)*100"
   ]
  },
  {
   "cell_type": "code",
   "execution_count": 7,
   "metadata": {},
   "outputs": [
    {
     "data": {
      "text/plain": [
       "array(['Mr.', 'Miss', 'Mrs.'], dtype=object)"
      ]
     },
     "execution_count": 7,
     "metadata": {},
     "output_type": "execute_result"
    }
   ],
   "source": [
    "df[[\"Gender\",\"Name\"]]=df[\"Name\"].str.split(\" \", n=1,expand=True)\n",
    "df.Gender.unique()"
   ]
  },
  {
   "cell_type": "code",
   "execution_count": 8,
   "metadata": {},
   "outputs": [
    {
     "data": {
      "text/plain": [
       "array(['M', 'F'], dtype=object)"
      ]
     },
     "execution_count": 8,
     "metadata": {},
     "output_type": "execute_result"
    }
   ],
   "source": [
    "df[\"Gender\"].replace([\"Mr.\"],\"M\",inplace=True)\n",
    "df[\"Gender\"].replace([\"Miss\",\"Mrs.\"],\"F\",inplace=True)\n",
    "df.Gender.unique()"
   ]
  },
  {
   "cell_type": "code",
   "execution_count": 9,
   "metadata": {},
   "outputs": [],
   "source": [
    "df[[\"Mouth\",\"Year\"]]=df['Birthday'].str.split(\",\",expand=True)\n",
    "df[\"Year\"]=df[\"Year\"].astype(int)"
   ]
  },
  {
   "cell_type": "code",
   "execution_count": 10,
   "metadata": {},
   "outputs": [
    {
     "data": {
      "text/plain": [
       "0        43\n",
       "1        40\n",
       "2        37\n",
       "3        61\n",
       "4        31\n",
       "         ..\n",
       "22395    23\n",
       "22396    21\n",
       "22397    24\n",
       "22398    35\n",
       "22399    20\n",
       "Name: Age, Length: 22400, dtype: int32"
      ]
     },
     "execution_count": 10,
     "metadata": {},
     "output_type": "execute_result"
    }
   ],
   "source": [
    "df[\"Age\"] = 2046 - df[\"Year\"]\n",
    "df[\"Age\"] "
   ]
  },
  {
   "cell_type": "code",
   "execution_count": 11,
   "metadata": {},
   "outputs": [],
   "source": [
    "df.set_index(\"CITIZEN_ID\",inplace=True)"
   ]
  },
  {
   "cell_type": "code",
   "execution_count": 12,
   "metadata": {},
   "outputs": [],
   "source": [
    "df.drop([\"Name\",\"Mouth\",\"Year\",\"Birthday\"],inplace=True,axis=1)"
   ]
  },
  {
   "cell_type": "code",
   "execution_count": 13,
   "metadata": {},
   "outputs": [
    {
     "data": {
      "text/html": [
       "<div>\n",
       "<style scoped>\n",
       "    .dataframe tbody tr th:only-of-type {\n",
       "        vertical-align: middle;\n",
       "    }\n",
       "\n",
       "    .dataframe tbody tr th {\n",
       "        vertical-align: top;\n",
       "    }\n",
       "\n",
       "    .dataframe thead th {\n",
       "        text-align: right;\n",
       "    }\n",
       "</style>\n",
       "<table border=\"1\" class=\"dataframe\">\n",
       "  <thead>\n",
       "    <tr style=\"text-align: right;\">\n",
       "      <th></th>\n",
       "      <th>Native Continent</th>\n",
       "      <th>Marital Status</th>\n",
       "      <th>Lives with</th>\n",
       "      <th>Base Area</th>\n",
       "      <th>Education Level</th>\n",
       "      <th>Years of Education</th>\n",
       "      <th>Employment Sector</th>\n",
       "      <th>Role</th>\n",
       "      <th>Working Hours per week</th>\n",
       "      <th>Money Received</th>\n",
       "      <th>Ticket Price</th>\n",
       "      <th>Income</th>\n",
       "      <th>Gender</th>\n",
       "      <th>Age</th>\n",
       "    </tr>\n",
       "    <tr>\n",
       "      <th>CITIZEN_ID</th>\n",
       "      <th></th>\n",
       "      <th></th>\n",
       "      <th></th>\n",
       "      <th></th>\n",
       "      <th></th>\n",
       "      <th></th>\n",
       "      <th></th>\n",
       "      <th></th>\n",
       "      <th></th>\n",
       "      <th></th>\n",
       "      <th></th>\n",
       "      <th></th>\n",
       "      <th></th>\n",
       "      <th></th>\n",
       "    </tr>\n",
       "  </thead>\n",
       "  <tbody>\n",
       "    <tr>\n",
       "      <th>12486</th>\n",
       "      <td>Europe</td>\n",
       "      <td>Married</td>\n",
       "      <td>Wife</td>\n",
       "      <td>Northbury</td>\n",
       "      <td>High School + PostGraduation</td>\n",
       "      <td>13</td>\n",
       "      <td>Private Sector - Services</td>\n",
       "      <td>Repair &amp; constructions</td>\n",
       "      <td>40</td>\n",
       "      <td>0</td>\n",
       "      <td>2273</td>\n",
       "      <td>1</td>\n",
       "      <td>M</td>\n",
       "      <td>43</td>\n",
       "    </tr>\n",
       "    <tr>\n",
       "      <th>12487</th>\n",
       "      <td>Europe</td>\n",
       "      <td>Married</td>\n",
       "      <td>Wife</td>\n",
       "      <td>Northbury</td>\n",
       "      <td>Professional School</td>\n",
       "      <td>12</td>\n",
       "      <td>Public Sector - Others</td>\n",
       "      <td>Repair &amp; constructions</td>\n",
       "      <td>40</td>\n",
       "      <td>0</td>\n",
       "      <td>0</td>\n",
       "      <td>1</td>\n",
       "      <td>M</td>\n",
       "      <td>40</td>\n",
       "    </tr>\n",
       "    <tr>\n",
       "      <th>12488</th>\n",
       "      <td>Europe</td>\n",
       "      <td>Married</td>\n",
       "      <td>Wife</td>\n",
       "      <td>Northbury</td>\n",
       "      <td>Professional School</td>\n",
       "      <td>12</td>\n",
       "      <td>Private Sector - Services</td>\n",
       "      <td>Sales</td>\n",
       "      <td>46</td>\n",
       "      <td>0</td>\n",
       "      <td>2321</td>\n",
       "      <td>1</td>\n",
       "      <td>M</td>\n",
       "      <td>37</td>\n",
       "    </tr>\n",
       "    <tr>\n",
       "      <th>12489</th>\n",
       "      <td>Europe</td>\n",
       "      <td>Married</td>\n",
       "      <td>Wife</td>\n",
       "      <td>Northbury</td>\n",
       "      <td>High School - 2nd Cycle</td>\n",
       "      <td>11</td>\n",
       "      <td>Private Sector - Services</td>\n",
       "      <td>Security</td>\n",
       "      <td>37</td>\n",
       "      <td>5395</td>\n",
       "      <td>0</td>\n",
       "      <td>1</td>\n",
       "      <td>M</td>\n",
       "      <td>61</td>\n",
       "    </tr>\n",
       "    <tr>\n",
       "      <th>12490</th>\n",
       "      <td>Europe</td>\n",
       "      <td>Single</td>\n",
       "      <td>Other Family</td>\n",
       "      <td>Northbury</td>\n",
       "      <td>PhD</td>\n",
       "      <td>21</td>\n",
       "      <td>Self-Employed (Individual)</td>\n",
       "      <td>Professor</td>\n",
       "      <td>45</td>\n",
       "      <td>0</td>\n",
       "      <td>0</td>\n",
       "      <td>1</td>\n",
       "      <td>M</td>\n",
       "      <td>31</td>\n",
       "    </tr>\n",
       "  </tbody>\n",
       "</table>\n",
       "</div>"
      ],
      "text/plain": [
       "           Native Continent Marital Status    Lives with  Base Area  \\\n",
       "CITIZEN_ID                                                            \n",
       "12486                Europe        Married          Wife  Northbury   \n",
       "12487                Europe        Married          Wife  Northbury   \n",
       "12488                Europe        Married          Wife  Northbury   \n",
       "12489                Europe        Married          Wife  Northbury   \n",
       "12490                Europe         Single  Other Family  Northbury   \n",
       "\n",
       "                         Education Level  Years of Education  \\\n",
       "CITIZEN_ID                                                     \n",
       "12486       High School + PostGraduation                  13   \n",
       "12487                Professional School                  12   \n",
       "12488                Professional School                  12   \n",
       "12489            High School - 2nd Cycle                  11   \n",
       "12490                                PhD                  21   \n",
       "\n",
       "                     Employment Sector                    Role  \\\n",
       "CITIZEN_ID                                                       \n",
       "12486       Private Sector - Services   Repair & constructions   \n",
       "12487           Public Sector - Others  Repair & constructions   \n",
       "12488       Private Sector - Services                    Sales   \n",
       "12489       Private Sector - Services                 Security   \n",
       "12490       Self-Employed (Individual)               Professor   \n",
       "\n",
       "            Working Hours per week  Money Received  Ticket Price  Income  \\\n",
       "CITIZEN_ID                                                                 \n",
       "12486                           40               0          2273       1   \n",
       "12487                           40               0             0       1   \n",
       "12488                           46               0          2321       1   \n",
       "12489                           37            5395             0       1   \n",
       "12490                           45               0             0       1   \n",
       "\n",
       "           Gender  Age  \n",
       "CITIZEN_ID              \n",
       "12486           M   43  \n",
       "12487           M   40  \n",
       "12488           M   37  \n",
       "12489           M   61  \n",
       "12490           M   31  "
      ]
     },
     "execution_count": 13,
     "metadata": {},
     "output_type": "execute_result"
    }
   ],
   "source": [
    "df.head()"
   ]
  },
  {
   "cell_type": "code",
   "execution_count": 14,
   "metadata": {},
   "outputs": [
    {
     "data": {
      "text/plain": [
       "Native Continent          object\n",
       "Marital Status            object\n",
       "Lives with                object\n",
       "Base Area                 object\n",
       "Education Level           object\n",
       "Years of Education         int64\n",
       "Employment Sector         object\n",
       "Role                      object\n",
       "Working Hours per week     int64\n",
       "Money Received             int64\n",
       "Ticket Price               int64\n",
       "Income                     int64\n",
       "Gender                    object\n",
       "Age                        int32\n",
       "dtype: object"
      ]
     },
     "execution_count": 14,
     "metadata": {},
     "output_type": "execute_result"
    }
   ],
   "source": [
    "df.dtypes"
   ]
  },
  {
   "cell_type": "code",
   "execution_count": 15,
   "metadata": {},
   "outputs": [],
   "source": [
    "categorical = df.select_dtypes(include=\"object\").columns.to_list()\n",
    "numerical = df.columns.drop(categorical).drop(\"Income\").to_list()"
   ]
  },
  {
   "cell_type": "markdown",
   "metadata": {},
   "source": [
    "### Visualize"
   ]
  },
  {
   "cell_type": "code",
   "execution_count": 16,
   "metadata": {},
   "outputs": [],
   "source": [
    "df[\"Marital Status\"].replace([\"Married - Spouse Missing\",\"Married - Spouse in the Army\" ],\"Married\",inplace=True)\n",
    "df[\"Marital Status\"].replace([\"Separated\",\"Divorced\" ],\"Divorced\",inplace=True)"
   ]
  },
  {
   "cell_type": "code",
   "execution_count": 17,
   "metadata": {},
   "outputs": [],
   "source": [
    "df[\"Lives with\"].replace([\"Husband\",\"Wife\" ],\"Partner\",inplace=True)\n",
    "df[\"Lives with\"].replace([\"Other relatives\",\"Other Family\" ],\"Other\",inplace=True)"
   ]
  },
  {
   "cell_type": "code",
   "execution_count": 18,
   "metadata": {},
   "outputs": [],
   "source": [
    "base_area_values=df[\"Base Area\"].unique().tolist()\n",
    "base_area_values.remove(\"Northbury\")\n",
    "df[\"Base Area\"]=df[\"Base Area\"].replace(base_area_values,\"Others Base Areas\")"
   ]
  },
  {
   "cell_type": "code",
   "execution_count": 19,
   "metadata": {},
   "outputs": [],
   "source": [
    "df[\"Education Level\"].replace([\"High School - 2nd Cycle\",\"High School - 1st Cycle\",\"Middle School Complete\"],\"Middle School\",inplace=True)\n",
    "df[\"Education Level\"].replace([\"Middle School - 2nd Cycle\",\"Middle School - 1st Cycle\",\"Primary School\",\"Preschool\",\"PhD\"],\"Other\",inplace=True)"
   ]
  },
  {
   "cell_type": "code",
   "execution_count": 20,
   "metadata": {},
   "outputs": [],
   "source": [
    "df[\"Employment Sector\"].replace([\"Private Sector - Services \",\"Private Sector - Others\"],\"Private Sector\",inplace=True)\n",
    "df[\"Employment Sector\"].replace([\"Public Sector - Others\",\"Public Sector - Government\"],\"Public Sector\",inplace=True)\n",
    "df[\"Employment Sector\"].replace([\"Self-Employed (Individual)\",\"Self-Employed (Company)\"],\"Self-Employed\",inplace=True)\n",
    "df[\"Employment Sector\"].replace([\"Unemployed\",\"Never Worked\"],\"Other\",inplace=True)"
   ]
  },
  {
   "cell_type": "code",
   "execution_count": 21,
   "metadata": {},
   "outputs": [],
   "source": [
    "df[\"Role\"].replace([\"Security\",\"Cleaners & Handlers\",\"Machine Operators & Inspectors\",\"Transports\",\"Agriculture and Fishing\",\"Household Services\",\"Army\",\"IT\"],\"Other services\",inplace=True)"
   ]
  },
  {
   "cell_type": "code",
   "execution_count": 22,
   "metadata": {},
   "outputs": [
    {
     "data": {
      "image/png": "[encoded data removed]",
      "text/plain": [
       "<Figure size 864x2160 with 8 Axes>"
      ]
     },
     "metadata": {
      "needs_background": "light"
     },
     "output_type": "display_data"
    }
   ],
   "source": [
    "fig, axes = plt.subplots(len(categorical), ceil(len(categorical) / len(categorical)), figsize=(12, 30))\n",
    "for ax, feat in zip(axes.flatten(), categorical):\n",
    "    sns.countplot(y=df[feat], data=df, ax=ax) \n",
    "plt.show()"
   ]
  },
  {
   "cell_type": "code",
   "execution_count": 23,
   "metadata": {},
   "outputs": [
    {
     "data": {
      "image/png": "[encoded data removed]",
      "text/plain": [
       "<Figure size 1440x1440 with 5 Axes>"
      ]
     },
     "metadata": {},
     "output_type": "display_data"
    }
   ],
   "source": [
    "sns.set()\n",
    "fig, axes = plt.subplots(len(numerical), ceil(len(numerical) / len(numerical)), figsize=(20, 20))\n",
    "for ax, feat in zip(axes.flatten(), numerical):\n",
    "    sns.boxplot(x=df[feat], ax=ax) \n",
    "plt.show()"
   ]
  },
  {
   "cell_type": "markdown",
   "metadata": {},
   "source": [
    "### Fill Missing Values"
   ]
  },
  {
   "cell_type": "code",
   "execution_count": 24,
   "metadata": {},
   "outputs": [],
   "source": [
    "modes = df[categorical].mode().loc[0]\n",
    "df.fillna(modes,inplace=True)"
   ]
  },
  {
   "cell_type": "code",
   "execution_count": 25,
   "metadata": {},
   "outputs": [
    {
     "data": {
      "text/plain": [
       "Native Continent          0\n",
       "Marital Status            0\n",
       "Lives with                0\n",
       "Base Area                 0\n",
       "Education Level           0\n",
       "Years of Education        0\n",
       "Employment Sector         0\n",
       "Role                      0\n",
       "Working Hours per week    0\n",
       "Money Received            0\n",
       "Ticket Price              0\n",
       "Income                    0\n",
       "Gender                    0\n",
       "Age                       0\n",
       "dtype: int64"
      ]
     },
     "execution_count": 25,
     "metadata": {},
     "output_type": "execute_result"
    }
   ],
   "source": [
    "df.isna().sum()"
   ]
  },
  {
   "cell_type": "markdown",
   "metadata": {},
   "source": [
    "### Removing Outliers"
   ]
  },
  {
   "cell_type": "code",
   "execution_count": 26,
   "metadata": {},
   "outputs": [
    {
     "name": "stdout",
     "output_type": "stream",
     "text": [
      "Percentage of data kept after removing outliers: 0.9784\n"
     ]
    }
   ],
   "source": [
    "filters = (\n",
    "    (df[\"Working Hours per week\"]<=80)\n",
    "    & \n",
    "    (df[\"Years of Education\"]<20)\n",
    "    &\n",
    "    (df[\"Age\"]<80))\n",
    "\n",
    "df1=df[filters]\n",
    "print('Percentage of data kept after removing outliers:', np.round(df1.shape[0] / original.shape[0], 4))\n",
    "df=df1.copy()"
   ]
  },
  {
   "cell_type": "markdown",
   "metadata": {},
   "source": [
    "### Separating X and Y"
   ]
  },
  {
   "cell_type": "code",
   "execution_count": 27,
   "metadata": {},
   "outputs": [],
   "source": [
    "X=df.drop([\"Income\"],axis=1)\n",
    "y=df.loc[:,\"Income\"]\n",
    "categorical=X.select_dtypes(include=\"object\").columns.to_list()"
   ]
  },
  {
   "cell_type": "markdown",
   "metadata": {},
   "source": [
    "### Calculate the number for the weight in class"
   ]
  },
  {
   "cell_type": "code",
   "execution_count": 28,
   "metadata": {},
   "outputs": [],
   "source": [
    "weight=int(round(y.value_counts()[0]/y.value_counts()[1]))"
   ]
  },
  {
   "cell_type": "markdown",
   "metadata": {},
   "source": [
    "### Data Splitting"
   ]
  },
  {
   "cell_type": "code",
   "execution_count": 29,
   "metadata": {},
   "outputs": [],
   "source": [
    "X_train, X_test, y_train, y_test = train_test_split(X, y, train_size=0.8, random_state=42) "
   ]
  },
  {
   "cell_type": "code",
   "execution_count": 30,
   "metadata": {},
   "outputs": [
    {
     "name": "stdout",
     "output_type": "stream",
     "text": [
      "Learning rate set to 0.175042\n",
      "0:\tlearn: 0.7978993\ttest: 0.7887538\tbest: 0.7887538 (0)\ttotal: 74.2ms\tremaining: 7.35s\n",
      "10:\tlearn: 0.8186907\ttest: 0.8054211\tbest: 0.8086201 (8)\ttotal: 252ms\tremaining: 2.04s\n",
      "20:\tlearn: 0.8243719\ttest: 0.8078049\tbest: 0.8110211 (18)\ttotal: 453ms\tremaining: 1.7s\n",
      "30:\tlearn: 0.8241226\ttest: 0.8132618\tbest: 0.8132618 (30)\ttotal: 697ms\tremaining: 1.55s\n",
      "40:\tlearn: 0.8292106\ttest: 0.8115516\tbest: 0.8166315 (35)\ttotal: 882ms\tremaining: 1.27s\n",
      "50:\tlearn: 0.8305687\ttest: 0.8127764\tbest: 0.8166315 (35)\ttotal: 1.08s\tremaining: 1.03s\n",
      "60:\tlearn: 0.8318101\ttest: 0.8126744\tbest: 0.8166315 (35)\ttotal: 1.24s\tremaining: 793ms\n",
      "70:\tlearn: 0.8355031\ttest: 0.8150832\tbest: 0.8166315 (35)\ttotal: 1.42s\tremaining: 579ms\n",
      "80:\tlearn: 0.8375466\ttest: 0.8162527\tbest: 0.8166315 (35)\ttotal: 1.59s\tremaining: 374ms\n",
      "90:\tlearn: 0.8383542\ttest: 0.8191227\tbest: 0.8191227 (89)\ttotal: 1.77s\tremaining: 175ms\n",
      "99:\tlearn: 0.8394016\ttest: 0.8177340\tbest: 0.8192573 (91)\ttotal: 1.93s\tremaining: 0us\n",
      "\n",
      "bestTest = 0.8192573119\n",
      "bestIteration = 91\n",
      "\n",
      "Shrink model to first 92 iterations.\n"
     ]
    },
    {
     "data": {
      "text/plain": [
       "<catboost.core.CatBoostClassifier at 0x1d4829ec760>"
      ]
     },
     "execution_count": 30,
     "metadata": {},
     "output_type": "execute_result"
    }
   ],
   "source": [
    "model = CatBoostClassifier(iterations=100,cat_features=categorical,eval_metric=\"F1\",scale_pos_weight=weight,verbose=10)\n",
    "model.fit(X_train, y_train,eval_set=(X_test, y_test), use_best_model=True)"
   ]
  },
  {
   "cell_type": "code",
   "execution_count": 31,
   "metadata": {},
   "outputs": [
    {
     "data": {
      "text/plain": [
       "array([ 1.26149952,  3.20657347, 28.75445622,  0.69386841,  1.70489071,\n",
       "       11.99335111,  2.20705008,  7.17218897,  7.82138837, 12.50972096,\n",
       "        5.14609931,  2.76309399, 14.76581888])"
      ]
     },
     "execution_count": 31,
     "metadata": {},
     "output_type": "execute_result"
    }
   ],
   "source": [
    "model.get_feature_importance()"
   ]
  },
  {
   "cell_type": "code",
   "execution_count": 32,
   "metadata": {},
   "outputs": [
    {
     "data": {
      "text/plain": [
       "['Native Continent',\n",
       " 'Marital Status',\n",
       " 'Lives with',\n",
       " 'Base Area',\n",
       " 'Education Level',\n",
       " 'Years of Education',\n",
       " 'Employment Sector',\n",
       " 'Role',\n",
       " 'Working Hours per week',\n",
       " 'Money Received',\n",
       " 'Ticket Price',\n",
       " 'Gender',\n",
       " 'Age']"
      ]
     },
     "execution_count": 32,
     "metadata": {},
     "output_type": "execute_result"
    }
   ],
   "source": [
    "features =list(X.columns)\n",
    "features"
   ]
  },
  {
   "cell_type": "code",
   "execution_count": 33,
   "metadata": {},
   "outputs": [
    {
     "data": {
      "text/html": [
       "<div>\n",
       "<style scoped>\n",
       "    .dataframe tbody tr th:only-of-type {\n",
       "        vertical-align: middle;\n",
       "    }\n",
       "\n",
       "    .dataframe tbody tr th {\n",
       "        vertical-align: top;\n",
       "    }\n",
       "\n",
       "    .dataframe thead th {\n",
       "        text-align: right;\n",
       "    }\n",
       "</style>\n",
       "<table border=\"1\" class=\"dataframe\">\n",
       "  <thead>\n",
       "    <tr style=\"text-align: right;\">\n",
       "      <th></th>\n",
       "      <th>Feature</th>\n",
       "      <th>VarImp</th>\n",
       "    </tr>\n",
       "  </thead>\n",
       "  <tbody>\n",
       "    <tr>\n",
       "      <th>2</th>\n",
       "      <td>Lives with</td>\n",
       "      <td>28.754456</td>\n",
       "    </tr>\n",
       "    <tr>\n",
       "      <th>12</th>\n",
       "      <td>Age</td>\n",
       "      <td>14.765819</td>\n",
       "    </tr>\n",
       "    <tr>\n",
       "      <th>9</th>\n",
       "      <td>Money Received</td>\n",
       "      <td>12.509721</td>\n",
       "    </tr>\n",
       "    <tr>\n",
       "      <th>5</th>\n",
       "      <td>Years of Education</td>\n",
       "      <td>11.993351</td>\n",
       "    </tr>\n",
       "    <tr>\n",
       "      <th>8</th>\n",
       "      <td>Working Hours per week</td>\n",
       "      <td>7.821388</td>\n",
       "    </tr>\n",
       "    <tr>\n",
       "      <th>7</th>\n",
       "      <td>Role</td>\n",
       "      <td>7.172189</td>\n",
       "    </tr>\n",
       "    <tr>\n",
       "      <th>10</th>\n",
       "      <td>Ticket Price</td>\n",
       "      <td>5.146099</td>\n",
       "    </tr>\n",
       "    <tr>\n",
       "      <th>1</th>\n",
       "      <td>Marital Status</td>\n",
       "      <td>3.206573</td>\n",
       "    </tr>\n",
       "    <tr>\n",
       "      <th>11</th>\n",
       "      <td>Gender</td>\n",
       "      <td>2.763094</td>\n",
       "    </tr>\n",
       "    <tr>\n",
       "      <th>6</th>\n",
       "      <td>Employment Sector</td>\n",
       "      <td>2.207050</td>\n",
       "    </tr>\n",
       "    <tr>\n",
       "      <th>4</th>\n",
       "      <td>Education Level</td>\n",
       "      <td>1.704891</td>\n",
       "    </tr>\n",
       "    <tr>\n",
       "      <th>0</th>\n",
       "      <td>Native Continent</td>\n",
       "      <td>1.261500</td>\n",
       "    </tr>\n",
       "    <tr>\n",
       "      <th>3</th>\n",
       "      <td>Base Area</td>\n",
       "      <td>0.693868</td>\n",
       "    </tr>\n",
       "  </tbody>\n",
       "</table>\n",
       "</div>"
      ],
      "text/plain": [
       "                   Feature     VarImp\n",
       "2               Lives with  28.754456\n",
       "12                     Age  14.765819\n",
       "9           Money Received  12.509721\n",
       "5       Years of Education  11.993351\n",
       "8   Working Hours per week   7.821388\n",
       "7                     Role   7.172189\n",
       "10            Ticket Price   5.146099\n",
       "1           Marital Status   3.206573\n",
       "11                  Gender   2.763094\n",
       "6        Employment Sector   2.207050\n",
       "4          Education Level   1.704891\n",
       "0         Native Continent   1.261500\n",
       "3                Base Area   0.693868"
      ]
     },
     "execution_count": 33,
     "metadata": {},
     "output_type": "execute_result"
    }
   ],
   "source": [
    "feat_import = [t for t in zip(features, model.get_feature_importance())]\n",
    "feat_import_df = pd.DataFrame(feat_import, columns=['Feature', 'VarImp'])\n",
    "feat_import_df = feat_import_df.sort_values('VarImp', ascending=False)\n",
    "feat_import_df"
   ]
  },
  {
   "cell_type": "markdown",
   "metadata": {},
   "source": [
    "### Feature Selection"
   ]
  },
  {
   "cell_type": "code",
   "execution_count": 34,
   "metadata": {},
   "outputs": [],
   "source": [
    "X.drop([\"Education Level\",\"Base Area\",\"Employment Sector\",\"Native Continent\"],axis=1,inplace=True)\n",
    "categorical=X.select_dtypes(include=\"object\").columns.to_list()"
   ]
  },
  {
   "cell_type": "markdown",
   "metadata": {},
   "source": [
    "### One Hot Encoder"
   ]
  },
  {
   "cell_type": "code",
   "execution_count": 35,
   "metadata": {},
   "outputs": [],
   "source": [
    "df_ohc = X.copy()"
   ]
  },
  {
   "cell_type": "code",
   "execution_count": 36,
   "metadata": {},
   "outputs": [
    {
     "data": {
      "text/html": [
       "<div>\n",
       "<style scoped>\n",
       "    .dataframe tbody tr th:only-of-type {\n",
       "        vertical-align: middle;\n",
       "    }\n",
       "\n",
       "    .dataframe tbody tr th {\n",
       "        vertical-align: top;\n",
       "    }\n",
       "\n",
       "    .dataframe thead th {\n",
       "        text-align: right;\n",
       "    }\n",
       "</style>\n",
       "<table border=\"1\" class=\"dataframe\">\n",
       "  <thead>\n",
       "    <tr style=\"text-align: right;\">\n",
       "      <th></th>\n",
       "      <th>Marital Status_Married</th>\n",
       "      <th>Marital Status_Single</th>\n",
       "      <th>Marital Status_Widow</th>\n",
       "      <th>Lives with_Children</th>\n",
       "      <th>Lives with_Other</th>\n",
       "      <th>Lives with_Partner</th>\n",
       "      <th>Role_Management</th>\n",
       "      <th>Role_Other services</th>\n",
       "      <th>Role_Professor</th>\n",
       "      <th>Role_Repair &amp; constructions</th>\n",
       "      <th>Role_Sales</th>\n",
       "      <th>Gender_M</th>\n",
       "      <th>Years of Education</th>\n",
       "      <th>Working Hours per week</th>\n",
       "      <th>Money Received</th>\n",
       "      <th>Ticket Price</th>\n",
       "      <th>Age</th>\n",
       "    </tr>\n",
       "    <tr>\n",
       "      <th>CITIZEN_ID</th>\n",
       "      <th></th>\n",
       "      <th></th>\n",
       "      <th></th>\n",
       "      <th></th>\n",
       "      <th></th>\n",
       "      <th></th>\n",
       "      <th></th>\n",
       "      <th></th>\n",
       "      <th></th>\n",
       "      <th></th>\n",
       "      <th></th>\n",
       "      <th></th>\n",
       "      <th></th>\n",
       "      <th></th>\n",
       "      <th></th>\n",
       "      <th></th>\n",
       "      <th></th>\n",
       "    </tr>\n",
       "  </thead>\n",
       "  <tbody>\n",
       "    <tr>\n",
       "      <th>12486</th>\n",
       "      <td>1.0</td>\n",
       "      <td>0.0</td>\n",
       "      <td>0.0</td>\n",
       "      <td>0.0</td>\n",
       "      <td>0.0</td>\n",
       "      <td>1.0</td>\n",
       "      <td>0.0</td>\n",
       "      <td>0.0</td>\n",
       "      <td>0.0</td>\n",
       "      <td>1.0</td>\n",
       "      <td>0.0</td>\n",
       "      <td>1.0</td>\n",
       "      <td>13</td>\n",
       "      <td>40</td>\n",
       "      <td>0</td>\n",
       "      <td>2273</td>\n",
       "      <td>43</td>\n",
       "    </tr>\n",
       "    <tr>\n",
       "      <th>12487</th>\n",
       "      <td>1.0</td>\n",
       "      <td>0.0</td>\n",
       "      <td>0.0</td>\n",
       "      <td>0.0</td>\n",
       "      <td>0.0</td>\n",
       "      <td>1.0</td>\n",
       "      <td>0.0</td>\n",
       "      <td>0.0</td>\n",
       "      <td>0.0</td>\n",
       "      <td>1.0</td>\n",
       "      <td>0.0</td>\n",
       "      <td>1.0</td>\n",
       "      <td>12</td>\n",
       "      <td>40</td>\n",
       "      <td>0</td>\n",
       "      <td>0</td>\n",
       "      <td>40</td>\n",
       "    </tr>\n",
       "    <tr>\n",
       "      <th>12488</th>\n",
       "      <td>1.0</td>\n",
       "      <td>0.0</td>\n",
       "      <td>0.0</td>\n",
       "      <td>0.0</td>\n",
       "      <td>0.0</td>\n",
       "      <td>1.0</td>\n",
       "      <td>0.0</td>\n",
       "      <td>0.0</td>\n",
       "      <td>0.0</td>\n",
       "      <td>0.0</td>\n",
       "      <td>1.0</td>\n",
       "      <td>1.0</td>\n",
       "      <td>12</td>\n",
       "      <td>46</td>\n",
       "      <td>0</td>\n",
       "      <td>2321</td>\n",
       "      <td>37</td>\n",
       "    </tr>\n",
       "    <tr>\n",
       "      <th>12489</th>\n",
       "      <td>1.0</td>\n",
       "      <td>0.0</td>\n",
       "      <td>0.0</td>\n",
       "      <td>0.0</td>\n",
       "      <td>0.0</td>\n",
       "      <td>1.0</td>\n",
       "      <td>0.0</td>\n",
       "      <td>1.0</td>\n",
       "      <td>0.0</td>\n",
       "      <td>0.0</td>\n",
       "      <td>0.0</td>\n",
       "      <td>1.0</td>\n",
       "      <td>11</td>\n",
       "      <td>37</td>\n",
       "      <td>5395</td>\n",
       "      <td>0</td>\n",
       "      <td>61</td>\n",
       "    </tr>\n",
       "    <tr>\n",
       "      <th>12491</th>\n",
       "      <td>0.0</td>\n",
       "      <td>1.0</td>\n",
       "      <td>0.0</td>\n",
       "      <td>1.0</td>\n",
       "      <td>0.0</td>\n",
       "      <td>0.0</td>\n",
       "      <td>0.0</td>\n",
       "      <td>1.0</td>\n",
       "      <td>0.0</td>\n",
       "      <td>0.0</td>\n",
       "      <td>0.0</td>\n",
       "      <td>1.0</td>\n",
       "      <td>15</td>\n",
       "      <td>30</td>\n",
       "      <td>0</td>\n",
       "      <td>0</td>\n",
       "      <td>22</td>\n",
       "    </tr>\n",
       "    <tr>\n",
       "      <th>...</th>\n",
       "      <td>...</td>\n",
       "      <td>...</td>\n",
       "      <td>...</td>\n",
       "      <td>...</td>\n",
       "      <td>...</td>\n",
       "      <td>...</td>\n",
       "      <td>...</td>\n",
       "      <td>...</td>\n",
       "      <td>...</td>\n",
       "      <td>...</td>\n",
       "      <td>...</td>\n",
       "      <td>...</td>\n",
       "      <td>...</td>\n",
       "      <td>...</td>\n",
       "      <td>...</td>\n",
       "      <td>...</td>\n",
       "      <td>...</td>\n",
       "    </tr>\n",
       "    <tr>\n",
       "      <th>34880</th>\n",
       "      <td>1.0</td>\n",
       "      <td>0.0</td>\n",
       "      <td>0.0</td>\n",
       "      <td>0.0</td>\n",
       "      <td>0.0</td>\n",
       "      <td>1.0</td>\n",
       "      <td>0.0</td>\n",
       "      <td>0.0</td>\n",
       "      <td>0.0</td>\n",
       "      <td>0.0</td>\n",
       "      <td>1.0</td>\n",
       "      <td>1.0</td>\n",
       "      <td>16</td>\n",
       "      <td>45</td>\n",
       "      <td>0</td>\n",
       "      <td>0</td>\n",
       "      <td>33</td>\n",
       "    </tr>\n",
       "    <tr>\n",
       "      <th>34881</th>\n",
       "      <td>0.0</td>\n",
       "      <td>0.0</td>\n",
       "      <td>0.0</td>\n",
       "      <td>1.0</td>\n",
       "      <td>0.0</td>\n",
       "      <td>0.0</td>\n",
       "      <td>0.0</td>\n",
       "      <td>1.0</td>\n",
       "      <td>0.0</td>\n",
       "      <td>0.0</td>\n",
       "      <td>0.0</td>\n",
       "      <td>0.0</td>\n",
       "      <td>12</td>\n",
       "      <td>40</td>\n",
       "      <td>0</td>\n",
       "      <td>0</td>\n",
       "      <td>23</td>\n",
       "    </tr>\n",
       "    <tr>\n",
       "      <th>34882</th>\n",
       "      <td>0.0</td>\n",
       "      <td>1.0</td>\n",
       "      <td>0.0</td>\n",
       "      <td>1.0</td>\n",
       "      <td>0.0</td>\n",
       "      <td>0.0</td>\n",
       "      <td>0.0</td>\n",
       "      <td>1.0</td>\n",
       "      <td>0.0</td>\n",
       "      <td>0.0</td>\n",
       "      <td>0.0</td>\n",
       "      <td>1.0</td>\n",
       "      <td>12</td>\n",
       "      <td>35</td>\n",
       "      <td>0</td>\n",
       "      <td>0</td>\n",
       "      <td>21</td>\n",
       "    </tr>\n",
       "    <tr>\n",
       "      <th>34883</th>\n",
       "      <td>0.0</td>\n",
       "      <td>1.0</td>\n",
       "      <td>0.0</td>\n",
       "      <td>0.0</td>\n",
       "      <td>1.0</td>\n",
       "      <td>0.0</td>\n",
       "      <td>0.0</td>\n",
       "      <td>0.0</td>\n",
       "      <td>1.0</td>\n",
       "      <td>0.0</td>\n",
       "      <td>0.0</td>\n",
       "      <td>0.0</td>\n",
       "      <td>17</td>\n",
       "      <td>40</td>\n",
       "      <td>2674</td>\n",
       "      <td>0</td>\n",
       "      <td>24</td>\n",
       "    </tr>\n",
       "    <tr>\n",
       "      <th>34885</th>\n",
       "      <td>0.0</td>\n",
       "      <td>1.0</td>\n",
       "      <td>0.0</td>\n",
       "      <td>1.0</td>\n",
       "      <td>0.0</td>\n",
       "      <td>0.0</td>\n",
       "      <td>0.0</td>\n",
       "      <td>1.0</td>\n",
       "      <td>0.0</td>\n",
       "      <td>0.0</td>\n",
       "      <td>0.0</td>\n",
       "      <td>1.0</td>\n",
       "      <td>13</td>\n",
       "      <td>40</td>\n",
       "      <td>0</td>\n",
       "      <td>0</td>\n",
       "      <td>20</td>\n",
       "    </tr>\n",
       "  </tbody>\n",
       "</table>\n",
       "<p>21917 rows × 17 columns</p>\n",
       "</div>"
      ],
      "text/plain": [
       "            Marital Status_Married  Marital Status_Single  \\\n",
       "CITIZEN_ID                                                  \n",
       "12486                          1.0                    0.0   \n",
       "12487                          1.0                    0.0   \n",
       "12488                          1.0                    0.0   \n",
       "12489                          1.0                    0.0   \n",
       "12491                          0.0                    1.0   \n",
       "...                            ...                    ...   \n",
       "34880                          1.0                    0.0   \n",
       "34881                          0.0                    0.0   \n",
       "34882                          0.0                    1.0   \n",
       "34883                          0.0                    1.0   \n",
       "34885                          0.0                    1.0   \n",
       "\n",
       "            Marital Status_Widow  Lives with_Children  Lives with_Other  \\\n",
       "CITIZEN_ID                                                                \n",
       "12486                        0.0                  0.0               0.0   \n",
       "12487                        0.0                  0.0               0.0   \n",
       "12488                        0.0                  0.0               0.0   \n",
       "12489                        0.0                  0.0               0.0   \n",
       "12491                        0.0                  1.0               0.0   \n",
       "...                          ...                  ...               ...   \n",
       "34880                        0.0                  0.0               0.0   \n",
       "34881                        0.0                  1.0               0.0   \n",
       "34882                        0.0                  1.0               0.0   \n",
       "34883                        0.0                  0.0               1.0   \n",
       "34885                        0.0                  1.0               0.0   \n",
       "\n",
       "            Lives with_Partner  Role_Management  Role_Other services  \\\n",
       "CITIZEN_ID                                                             \n",
       "12486                      1.0              0.0                  0.0   \n",
       "12487                      1.0              0.0                  0.0   \n",
       "12488                      1.0              0.0                  0.0   \n",
       "12489                      1.0              0.0                  1.0   \n",
       "12491                      0.0              0.0                  1.0   \n",
       "...                        ...              ...                  ...   \n",
       "34880                      1.0              0.0                  0.0   \n",
       "34881                      0.0              0.0                  1.0   \n",
       "34882                      0.0              0.0                  1.0   \n",
       "34883                      0.0              0.0                  0.0   \n",
       "34885                      0.0              0.0                  1.0   \n",
       "\n",
       "            Role_Professor  Role_Repair & constructions  Role_Sales  Gender_M  \\\n",
       "CITIZEN_ID                                                                      \n",
       "12486                  0.0                          1.0         0.0       1.0   \n",
       "12487                  0.0                          1.0         0.0       1.0   \n",
       "12488                  0.0                          0.0         1.0       1.0   \n",
       "12489                  0.0                          0.0         0.0       1.0   \n",
       "12491                  0.0                          0.0         0.0       1.0   \n",
       "...                    ...                          ...         ...       ...   \n",
       "34880                  0.0                          0.0         1.0       1.0   \n",
       "34881                  0.0                          0.0         0.0       0.0   \n",
       "34882                  0.0                          0.0         0.0       1.0   \n",
       "34883                  1.0                          0.0         0.0       0.0   \n",
       "34885                  0.0                          0.0         0.0       1.0   \n",
       "\n",
       "            Years of Education  Working Hours per week  Money Received  \\\n",
       "CITIZEN_ID                                                               \n",
       "12486                       13                      40               0   \n",
       "12487                       12                      40               0   \n",
       "12488                       12                      46               0   \n",
       "12489                       11                      37            5395   \n",
       "12491                       15                      30               0   \n",
       "...                        ...                     ...             ...   \n",
       "34880                       16                      45               0   \n",
       "34881                       12                      40               0   \n",
       "34882                       12                      35               0   \n",
       "34883                       17                      40            2674   \n",
       "34885                       13                      40               0   \n",
       "\n",
       "            Ticket Price  Age  \n",
       "CITIZEN_ID                     \n",
       "12486               2273   43  \n",
       "12487                  0   40  \n",
       "12488               2321   37  \n",
       "12489                  0   61  \n",
       "12491                  0   22  \n",
       "...                  ...  ...  \n",
       "34880                  0   33  \n",
       "34881                  0   23  \n",
       "34882                  0   21  \n",
       "34883                  0   24  \n",
       "34885                  0   20  \n",
       "\n",
       "[21917 rows x 17 columns]"
      ]
     },
     "execution_count": 36,
     "metadata": {},
     "output_type": "execute_result"
    }
   ],
   "source": [
    "ohc = OneHotEncoder(sparse=False, drop=\"first\")\n",
    "ohc_feat = ohc.fit_transform(df_ohc[categorical])\n",
    "ohc_feat_names = ohc.get_feature_names(categorical)\n",
    "ohc_df = pd.DataFrame(ohc_feat, index=df_ohc.index, columns=ohc_feat_names)  # Why the index=df_ohc.index?\n",
    "# Reassigning df to contain ohc variables\n",
    "df_ohc = pd.concat([ohc_df,df_ohc.drop(columns=categorical)], axis=1)\n",
    "df_ohc"
   ]
  },
  {
   "cell_type": "code",
   "execution_count": 37,
   "metadata": {},
   "outputs": [
    {
     "data": {
      "text/html": [
       "<div>\n",
       "<style scoped>\n",
       "    .dataframe tbody tr th:only-of-type {\n",
       "        vertical-align: middle;\n",
       "    }\n",
       "\n",
       "    .dataframe tbody tr th {\n",
       "        vertical-align: top;\n",
       "    }\n",
       "\n",
       "    .dataframe thead th {\n",
       "        text-align: right;\n",
       "    }\n",
       "</style>\n",
       "<table border=\"1\" class=\"dataframe\">\n",
       "  <thead>\n",
       "    <tr style=\"text-align: right;\">\n",
       "      <th></th>\n",
       "      <th>Marital Status_Married</th>\n",
       "      <th>Marital Status_Single</th>\n",
       "      <th>Marital Status_Widow</th>\n",
       "      <th>Lives with_Children</th>\n",
       "      <th>Lives with_Other</th>\n",
       "      <th>Lives with_Partner</th>\n",
       "      <th>Role_Management</th>\n",
       "      <th>Role_Other services</th>\n",
       "      <th>Role_Professor</th>\n",
       "      <th>Role_Repair &amp; constructions</th>\n",
       "      <th>Role_Sales</th>\n",
       "      <th>Gender_M</th>\n",
       "      <th>Years of Education</th>\n",
       "      <th>Working Hours per week</th>\n",
       "      <th>Money Received</th>\n",
       "      <th>Ticket Price</th>\n",
       "      <th>Age</th>\n",
       "    </tr>\n",
       "    <tr>\n",
       "      <th>CITIZEN_ID</th>\n",
       "      <th></th>\n",
       "      <th></th>\n",
       "      <th></th>\n",
       "      <th></th>\n",
       "      <th></th>\n",
       "      <th></th>\n",
       "      <th></th>\n",
       "      <th></th>\n",
       "      <th></th>\n",
       "      <th></th>\n",
       "      <th></th>\n",
       "      <th></th>\n",
       "      <th></th>\n",
       "      <th></th>\n",
       "      <th></th>\n",
       "      <th></th>\n",
       "      <th></th>\n",
       "    </tr>\n",
       "  </thead>\n",
       "  <tbody>\n",
       "    <tr>\n",
       "      <th>12486</th>\n",
       "      <td>1.0</td>\n",
       "      <td>0.0</td>\n",
       "      <td>0.0</td>\n",
       "      <td>0.0</td>\n",
       "      <td>0.0</td>\n",
       "      <td>1.0</td>\n",
       "      <td>0.0</td>\n",
       "      <td>0.0</td>\n",
       "      <td>0.0</td>\n",
       "      <td>1.0</td>\n",
       "      <td>0.0</td>\n",
       "      <td>1.0</td>\n",
       "      <td>13</td>\n",
       "      <td>40</td>\n",
       "      <td>0</td>\n",
       "      <td>2273</td>\n",
       "      <td>43</td>\n",
       "    </tr>\n",
       "    <tr>\n",
       "      <th>12487</th>\n",
       "      <td>1.0</td>\n",
       "      <td>0.0</td>\n",
       "      <td>0.0</td>\n",
       "      <td>0.0</td>\n",
       "      <td>0.0</td>\n",
       "      <td>1.0</td>\n",
       "      <td>0.0</td>\n",
       "      <td>0.0</td>\n",
       "      <td>0.0</td>\n",
       "      <td>1.0</td>\n",
       "      <td>0.0</td>\n",
       "      <td>1.0</td>\n",
       "      <td>12</td>\n",
       "      <td>40</td>\n",
       "      <td>0</td>\n",
       "      <td>0</td>\n",
       "      <td>40</td>\n",
       "    </tr>\n",
       "    <tr>\n",
       "      <th>12488</th>\n",
       "      <td>1.0</td>\n",
       "      <td>0.0</td>\n",
       "      <td>0.0</td>\n",
       "      <td>0.0</td>\n",
       "      <td>0.0</td>\n",
       "      <td>1.0</td>\n",
       "      <td>0.0</td>\n",
       "      <td>0.0</td>\n",
       "      <td>0.0</td>\n",
       "      <td>0.0</td>\n",
       "      <td>1.0</td>\n",
       "      <td>1.0</td>\n",
       "      <td>12</td>\n",
       "      <td>46</td>\n",
       "      <td>0</td>\n",
       "      <td>2321</td>\n",
       "      <td>37</td>\n",
       "    </tr>\n",
       "    <tr>\n",
       "      <th>12489</th>\n",
       "      <td>1.0</td>\n",
       "      <td>0.0</td>\n",
       "      <td>0.0</td>\n",
       "      <td>0.0</td>\n",
       "      <td>0.0</td>\n",
       "      <td>1.0</td>\n",
       "      <td>0.0</td>\n",
       "      <td>1.0</td>\n",
       "      <td>0.0</td>\n",
       "      <td>0.0</td>\n",
       "      <td>0.0</td>\n",
       "      <td>1.0</td>\n",
       "      <td>11</td>\n",
       "      <td>37</td>\n",
       "      <td>5395</td>\n",
       "      <td>0</td>\n",
       "      <td>61</td>\n",
       "    </tr>\n",
       "    <tr>\n",
       "      <th>12491</th>\n",
       "      <td>0.0</td>\n",
       "      <td>1.0</td>\n",
       "      <td>0.0</td>\n",
       "      <td>1.0</td>\n",
       "      <td>0.0</td>\n",
       "      <td>0.0</td>\n",
       "      <td>0.0</td>\n",
       "      <td>1.0</td>\n",
       "      <td>0.0</td>\n",
       "      <td>0.0</td>\n",
       "      <td>0.0</td>\n",
       "      <td>1.0</td>\n",
       "      <td>15</td>\n",
       "      <td>30</td>\n",
       "      <td>0</td>\n",
       "      <td>0</td>\n",
       "      <td>22</td>\n",
       "    </tr>\n",
       "  </tbody>\n",
       "</table>\n",
       "</div>"
      ],
      "text/plain": [
       "            Marital Status_Married  Marital Status_Single  \\\n",
       "CITIZEN_ID                                                  \n",
       "12486                          1.0                    0.0   \n",
       "12487                          1.0                    0.0   \n",
       "12488                          1.0                    0.0   \n",
       "12489                          1.0                    0.0   \n",
       "12491                          0.0                    1.0   \n",
       "\n",
       "            Marital Status_Widow  Lives with_Children  Lives with_Other  \\\n",
       "CITIZEN_ID                                                                \n",
       "12486                        0.0                  0.0               0.0   \n",
       "12487                        0.0                  0.0               0.0   \n",
       "12488                        0.0                  0.0               0.0   \n",
       "12489                        0.0                  0.0               0.0   \n",
       "12491                        0.0                  1.0               0.0   \n",
       "\n",
       "            Lives with_Partner  Role_Management  Role_Other services  \\\n",
       "CITIZEN_ID                                                             \n",
       "12486                      1.0              0.0                  0.0   \n",
       "12487                      1.0              0.0                  0.0   \n",
       "12488                      1.0              0.0                  0.0   \n",
       "12489                      1.0              0.0                  1.0   \n",
       "12491                      0.0              0.0                  1.0   \n",
       "\n",
       "            Role_Professor  Role_Repair & constructions  Role_Sales  Gender_M  \\\n",
       "CITIZEN_ID                                                                      \n",
       "12486                  0.0                          1.0         0.0       1.0   \n",
       "12487                  0.0                          1.0         0.0       1.0   \n",
       "12488                  0.0                          0.0         1.0       1.0   \n",
       "12489                  0.0                          0.0         0.0       1.0   \n",
       "12491                  0.0                          0.0         0.0       1.0   \n",
       "\n",
       "            Years of Education  Working Hours per week  Money Received  \\\n",
       "CITIZEN_ID                                                               \n",
       "12486                       13                      40               0   \n",
       "12487                       12                      40               0   \n",
       "12488                       12                      46               0   \n",
       "12489                       11                      37            5395   \n",
       "12491                       15                      30               0   \n",
       "\n",
       "            Ticket Price  Age  \n",
       "CITIZEN_ID                     \n",
       "12486               2273   43  \n",
       "12487                  0   40  \n",
       "12488               2321   37  \n",
       "12489                  0   61  \n",
       "12491                  0   22  "
      ]
     },
     "execution_count": 37,
     "metadata": {},
     "output_type": "execute_result"
    }
   ],
   "source": [
    "X=df_ohc.copy()\n",
    "X.head()"
   ]
  },
  {
   "cell_type": "markdown",
   "metadata": {},
   "source": [
    "### Data Splitting"
   ]
  },
  {
   "cell_type": "code",
   "execution_count": 182,
   "metadata": {},
   "outputs": [],
   "source": [
    "X_train, X_test, y_train, y_test = train_test_split(X, y, train_size=0.8, random_state=1,stratify=y, shuffle = True) "
   ]
  },
  {
   "cell_type": "markdown",
   "metadata": {},
   "source": [
    "### SMOTE"
   ]
  },
  {
   "cell_type": "code",
   "execution_count": 169,
   "metadata": {},
   "outputs": [],
   "source": [
    "#oversampling=SVMSMOTE()\n",
    "#X_train, y_train = oversampling.fit_resample(X_train, y_train)"
   ]
  },
  {
   "cell_type": "code",
   "execution_count": 124,
   "metadata": {},
   "outputs": [],
   "source": [
    "#X_test, y_test = oversampling.fit_resample(X_test, y_test)"
   ]
  },
  {
   "cell_type": "markdown",
   "metadata": {},
   "source": [
    "### Standard Scaler"
   ]
  },
  {
   "cell_type": "code",
   "execution_count": 183,
   "metadata": {},
   "outputs": [],
   "source": [
    "scaler_X_train = MinMaxScaler().fit(X_train).transform(X_train)\n",
    "scaler_X_test = MinMaxScaler().fit(X_test).transform(X_test)"
   ]
  },
  {
   "cell_type": "markdown",
   "metadata": {},
   "source": [
    "### Random Forest"
   ]
  },
  {
   "cell_type": "code",
   "execution_count": 244,
   "metadata": {
    "scrolled": true
   },
   "outputs": [
    {
     "data": {
      "text/plain": [
       "RandomForestClassifier(class_weight={1: 2}, criterion='entropy', max_depth=16,\n",
       "                       max_features=15, min_samples_leaf=8, n_estimators=1000,\n",
       "                       n_jobs=-1, random_state=20)"
      ]
     },
     "execution_count": 244,
     "metadata": {},
     "output_type": "execute_result"
    }
   ],
   "source": [
    "model = RandomForestClassifier(n_estimators=1000,criterion=\"entropy\",random_state=20,max_depth=16,n_jobs=-1,min_samples_leaf=8,max_features=15,class_weight={1:2})\n",
    "#model=BalancedRandomForestClassifier(n_estimators=1000,criterion=\"entropy\",random_state=20,max_depth=18,n_jobs=-1,min_samples_leaf=8,max_features=15)\n",
    "model.fit(scaler_X_train, y_train)"
   ]
  },
  {
   "cell_type": "code",
   "execution_count": 245,
   "metadata": {},
   "outputs": [
    {
     "data": {
      "text/plain": [
       "0.7038231229847995"
      ]
     },
     "execution_count": 245,
     "metadata": {},
     "output_type": "execute_result"
    }
   ],
   "source": [
    "y_pred=model.predict(scaler_X_test)\n",
    "f1_score(y_pred,y_test)"
   ]
  },
  {
   "cell_type": "code",
   "execution_count": 236,
   "metadata": {},
   "outputs": [
    {
     "data": {
      "text/plain": [
       "0.8533302919708029"
      ]
     },
     "execution_count": 236,
     "metadata": {},
     "output_type": "execute_result"
    }
   ],
   "source": [
    "accuracy_score(y_pred,y_test)"
   ]
  },
  {
   "cell_type": "code",
   "execution_count": 215,
   "metadata": {},
   "outputs": [],
   "source": [
    "dataframe=pd.DataFrame()\n",
    "dataframe[\"Income\"]=y_pred"
   ]
  },
  {
   "cell_type": "code",
   "execution_count": 216,
   "metadata": {},
   "outputs": [
    {
     "data": {
      "text/html": [
       "<div>\n",
       "<style scoped>\n",
       "    .dataframe tbody tr th:only-of-type {\n",
       "        vertical-align: middle;\n",
       "    }\n",
       "\n",
       "    .dataframe tbody tr th {\n",
       "        vertical-align: top;\n",
       "    }\n",
       "\n",
       "    .dataframe thead th {\n",
       "        text-align: right;\n",
       "    }\n",
       "</style>\n",
       "<table border=\"1\" class=\"dataframe\">\n",
       "  <thead>\n",
       "    <tr style=\"text-align: right;\">\n",
       "      <th></th>\n",
       "      <th>Income</th>\n",
       "    </tr>\n",
       "  </thead>\n",
       "  <tbody>\n",
       "    <tr>\n",
       "      <th>0</th>\n",
       "      <td>1</td>\n",
       "    </tr>\n",
       "    <tr>\n",
       "      <th>1</th>\n",
       "      <td>1</td>\n",
       "    </tr>\n",
       "    <tr>\n",
       "      <th>2</th>\n",
       "      <td>0</td>\n",
       "    </tr>\n",
       "    <tr>\n",
       "      <th>3</th>\n",
       "      <td>0</td>\n",
       "    </tr>\n",
       "    <tr>\n",
       "      <th>4</th>\n",
       "      <td>0</td>\n",
       "    </tr>\n",
       "    <tr>\n",
       "      <th>...</th>\n",
       "      <td>...</td>\n",
       "    </tr>\n",
       "    <tr>\n",
       "      <th>4379</th>\n",
       "      <td>0</td>\n",
       "    </tr>\n",
       "    <tr>\n",
       "      <th>4380</th>\n",
       "      <td>1</td>\n",
       "    </tr>\n",
       "    <tr>\n",
       "      <th>4381</th>\n",
       "      <td>0</td>\n",
       "    </tr>\n",
       "    <tr>\n",
       "      <th>4382</th>\n",
       "      <td>0</td>\n",
       "    </tr>\n",
       "    <tr>\n",
       "      <th>4383</th>\n",
       "      <td>0</td>\n",
       "    </tr>\n",
       "  </tbody>\n",
       "</table>\n",
       "<p>4384 rows × 1 columns</p>\n",
       "</div>"
      ],
      "text/plain": [
       "      Income\n",
       "0          1\n",
       "1          1\n",
       "2          0\n",
       "3          0\n",
       "4          0\n",
       "...      ...\n",
       "4379       0\n",
       "4380       1\n",
       "4381       0\n",
       "4382       0\n",
       "4383       0\n",
       "\n",
       "[4384 rows x 1 columns]"
      ]
     },
     "execution_count": 216,
     "metadata": {},
     "output_type": "execute_result"
    }
   ],
   "source": [
    "dataframe"
   ]
  },
  {
   "cell_type": "code",
   "execution_count": 228,
   "metadata": {},
   "outputs": [
    {
     "data": {
      "text/html": [
       "<div>\n",
       "<style scoped>\n",
       "    .dataframe tbody tr th:only-of-type {\n",
       "        vertical-align: middle;\n",
       "    }\n",
       "\n",
       "    .dataframe tbody tr th {\n",
       "        vertical-align: top;\n",
       "    }\n",
       "\n",
       "    .dataframe thead th {\n",
       "        text-align: right;\n",
       "    }\n",
       "</style>\n",
       "<table border=\"1\" class=\"dataframe\">\n",
       "  <thead>\n",
       "    <tr style=\"text-align: right;\">\n",
       "      <th></th>\n",
       "      <th>Income</th>\n",
       "    </tr>\n",
       "  </thead>\n",
       "  <tbody>\n",
       "    <tr>\n",
       "      <th>0</th>\n",
       "      <td>1</td>\n",
       "    </tr>\n",
       "    <tr>\n",
       "      <th>1</th>\n",
       "      <td>1</td>\n",
       "    </tr>\n",
       "    <tr>\n",
       "      <th>5</th>\n",
       "      <td>1</td>\n",
       "    </tr>\n",
       "    <tr>\n",
       "      <th>6</th>\n",
       "      <td>1</td>\n",
       "    </tr>\n",
       "    <tr>\n",
       "      <th>8</th>\n",
       "      <td>1</td>\n",
       "    </tr>\n",
       "    <tr>\n",
       "      <th>...</th>\n",
       "      <td>...</td>\n",
       "    </tr>\n",
       "    <tr>\n",
       "      <th>4359</th>\n",
       "      <td>1</td>\n",
       "    </tr>\n",
       "    <tr>\n",
       "      <th>4362</th>\n",
       "      <td>1</td>\n",
       "    </tr>\n",
       "    <tr>\n",
       "      <th>4371</th>\n",
       "      <td>1</td>\n",
       "    </tr>\n",
       "    <tr>\n",
       "      <th>4378</th>\n",
       "      <td>1</td>\n",
       "    </tr>\n",
       "    <tr>\n",
       "      <th>4380</th>\n",
       "      <td>1</td>\n",
       "    </tr>\n",
       "  </tbody>\n",
       "</table>\n",
       "<p>1139 rows × 1 columns</p>\n",
       "</div>"
      ],
      "text/plain": [
       "      Income\n",
       "0          1\n",
       "1          1\n",
       "5          1\n",
       "6          1\n",
       "8          1\n",
       "...      ...\n",
       "4359       1\n",
       "4362       1\n",
       "4371       1\n",
       "4378       1\n",
       "4380       1\n",
       "\n",
       "[1139 rows x 1 columns]"
      ]
     },
     "execution_count": 228,
     "metadata": {},
     "output_type": "execute_result"
    }
   ],
   "source": [
    "dataframe[dataframe.Income==1]"
   ]
  },
  {
   "cell_type": "code",
   "execution_count": 46,
   "metadata": {},
   "outputs": [
    {
     "data": {
      "text/plain": [
       "CITIZEN_ID\n",
       "31354    0\n",
       "21347    1\n",
       "25190    0\n",
       "20425    0\n",
       "25888    0\n",
       "        ..\n",
       "30318    0\n",
       "25088    1\n",
       "28897    0\n",
       "22220    0\n",
       "22549    0\n",
       "Name: Income, Length: 4384, dtype: int64"
      ]
     },
     "execution_count": 46,
     "metadata": {},
     "output_type": "execute_result"
    }
   ],
   "source": [
    "y_test"
   ]
  },
  {
   "cell_type": "markdown",
   "metadata": {},
   "source": [
    "### Cross-Validation"
   ]
  },
  {
   "cell_type": "code",
   "execution_count": 47,
   "metadata": {},
   "outputs": [],
   "source": [
    "cv_results = cross_validate(model, scaler_X_train,y_train, cv=10, scoring=[\"f1\"])"
   ]
  },
  {
   "cell_type": "code",
   "execution_count": 48,
   "metadata": {},
   "outputs": [
    {
     "data": {
      "text/plain": [
       "0.636100186051965"
      ]
     },
     "execution_count": 48,
     "metadata": {},
     "output_type": "execute_result"
    }
   ],
   "source": [
    "cv_results[\"test_f1\"].mean()"
   ]
  },
  {
   "cell_type": "markdown",
   "metadata": {},
   "source": [
    "# Export"
   ]
  },
  {
   "cell_type": "code",
   "execution_count": 49,
   "metadata": {},
   "outputs": [
    {
     "name": "stdout",
     "output_type": "stream",
     "text": [
      "[1 0 1 ... 0 0 0]\n"
     ]
    }
   ],
   "source": [
    "test = pd.read_excel(\"test.xlsx\")\n",
    "original=test.copy()\n",
    "\n",
    "test[[\"Gender\",\"Name\"]]=test[\"Name\"].str.split(\" \", n=1,expand=True)\n",
    "test[\"Gender\"].replace([\"Mr.\"],\"M\",inplace=True)\n",
    "test[\"Gender\"].replace([\"Miss\",\"Mrs.\"],\"F\",inplace=True)\n",
    "test[[\"Mouth\",\"Year\"]]=test['Birthday'].str.split(\",\",expand=True)\n",
    "test[\"Year\"]=test[\"Year\"].astype(int)\n",
    "\n",
    "test[\"Age\"] = 2046 - test[\"Year\"]\n",
    "test[\"Age\"] \n",
    "test.set_index(\"CITIZEN_ID\",inplace=True)\n",
    "test.drop([\"Name\",\"Mouth\",\"Year\",\"Birthday\"],inplace=True,axis=1)\n",
    "\n",
    "test[\"Marital Status\"].replace([\"Married - Spouse Missing\",\"Married - Spouse in the Army\" ],\"Married\",inplace=True)\n",
    "test[\"Marital Status\"].replace([\"Separated\",\"Divorced\" ],\"Divorced\",inplace=True)\n",
    "test[\"Lives with\"].replace([\"Husband\",\"Wife\" ],\"Partner\",inplace=True)\n",
    "test[\"Lives with\"].replace([\"Other relatives\",\"Other Family\" ],\"Other\",inplace=True)\n",
    "test[\"Role\"].replace([\"Security\",\"Cleaners & Handlers\",\"Machine Operators & Inspectors\",\"Transports\",\"Agriculture and Fishing\",\"Household Services\",\"Army\",\"IT\"],\"Other services\",inplace=True)\n",
    "\n",
    "test.drop([\"Education Level\",\"Base Area\",\"Employment Sector\",\"Native Continent\"],axis=1,inplace=True)\n",
    "categorical=test.select_dtypes(include=\"object\").columns.to_list()\n",
    "\n",
    "df_ohc = test.copy()\n",
    "ohc = OneHotEncoder(sparse=False, drop=\"first\")\n",
    "ohc_feat = ohc.fit_transform(df_ohc[categorical])\n",
    "ohc_feat_names = ohc.get_feature_names(categorical)\n",
    "ohc_df = pd.DataFrame(ohc_feat, index=df_ohc.index,columns=ohc_feat_names)  # Why the index=df_ohc.index?\n",
    "# Reassigning df to contain ohc variables\n",
    "df_ohc = pd.concat([ohc_df,df_ohc.drop(columns=categorical)], axis=1)\n",
    "test=df_ohc.copy()\n",
    "\n",
    "scaler=StandardScaler().fit(test).transform(test)\n",
    "test.drop(\"Role_Administratives\",axis=1,inplace=True)\n",
    "predict=model.predict(test)\n",
    "print(predict)\n",
    "# final dataframe\n",
    "\n",
    "dataframe=pd.DataFrame()\n",
    "\n",
    "dataframe[\"CITIZEN_ID\"]=original[\"CITIZEN_ID\"]\n",
    "dataframe[\"Income\"]= predict\n",
    "\n",
    "dataframe.to_csv(\"Predictions\")"
   ]
  },
  {
   "cell_type": "code",
   "execution_count": 50,
   "metadata": {},
   "outputs": [
    {
     "data": {
      "text/html": [
       "<div>\n",
       "<style scoped>\n",
       "    .dataframe tbody tr th:only-of-type {\n",
       "        vertical-align: middle;\n",
       "    }\n",
       "\n",
       "    .dataframe tbody tr th {\n",
       "        vertical-align: top;\n",
       "    }\n",
       "\n",
       "    .dataframe thead th {\n",
       "        text-align: right;\n",
       "    }\n",
       "</style>\n",
       "<table border=\"1\" class=\"dataframe\">\n",
       "  <thead>\n",
       "    <tr style=\"text-align: right;\">\n",
       "      <th></th>\n",
       "      <th>CITIZEN_ID</th>\n",
       "      <th>Income</th>\n",
       "    </tr>\n",
       "  </thead>\n",
       "  <tbody>\n",
       "    <tr>\n",
       "      <th>1</th>\n",
       "      <td>34887</td>\n",
       "      <td>0</td>\n",
       "    </tr>\n",
       "    <tr>\n",
       "      <th>5</th>\n",
       "      <td>34891</td>\n",
       "      <td>0</td>\n",
       "    </tr>\n",
       "    <tr>\n",
       "      <th>7</th>\n",
       "      <td>34893</td>\n",
       "      <td>0</td>\n",
       "    </tr>\n",
       "    <tr>\n",
       "      <th>8</th>\n",
       "      <td>34894</td>\n",
       "      <td>0</td>\n",
       "    </tr>\n",
       "    <tr>\n",
       "      <th>9</th>\n",
       "      <td>34895</td>\n",
       "      <td>0</td>\n",
       "    </tr>\n",
       "    <tr>\n",
       "      <th>...</th>\n",
       "      <td>...</td>\n",
       "      <td>...</td>\n",
       "    </tr>\n",
       "    <tr>\n",
       "      <th>10090</th>\n",
       "      <td>44976</td>\n",
       "      <td>0</td>\n",
       "    </tr>\n",
       "    <tr>\n",
       "      <th>10093</th>\n",
       "      <td>44979</td>\n",
       "      <td>0</td>\n",
       "    </tr>\n",
       "    <tr>\n",
       "      <th>10097</th>\n",
       "      <td>44983</td>\n",
       "      <td>0</td>\n",
       "    </tr>\n",
       "    <tr>\n",
       "      <th>10098</th>\n",
       "      <td>44984</td>\n",
       "      <td>0</td>\n",
       "    </tr>\n",
       "    <tr>\n",
       "      <th>10099</th>\n",
       "      <td>44985</td>\n",
       "      <td>0</td>\n",
       "    </tr>\n",
       "  </tbody>\n",
       "</table>\n",
       "<p>6234 rows × 2 columns</p>\n",
       "</div>"
      ],
      "text/plain": [
       "       CITIZEN_ID  Income\n",
       "1           34887       0\n",
       "5           34891       0\n",
       "7           34893       0\n",
       "8           34894       0\n",
       "9           34895       0\n",
       "...           ...     ...\n",
       "10090       44976       0\n",
       "10093       44979       0\n",
       "10097       44983       0\n",
       "10098       44984       0\n",
       "10099       44985       0\n",
       "\n",
       "[6234 rows x 2 columns]"
      ]
     },
     "execution_count": 50,
     "metadata": {},
     "output_type": "execute_result"
    }
   ],
   "source": [
    "dataframe[dataframe[\"Income\"]==0]\n"
   ]
  }
 ],
 "metadata": {
  "kernelspec": {
   "display_name": "Python 3",
   "language": "python",
   "name": "python3"
  },
  "language_info": {
   "codemirror_mode": {
    "name": "ipython",
    "version": 3
   },
   "file_extension": ".py",
   "mimetype": "text/x-python",
   "name": "python",
   "nbconvert_exporter": "python",
   "pygments_lexer": "ipython3",
   "version": "3.8.3"
  }
 },
 "nbformat": 4,
 "nbformat_minor": 4
}
