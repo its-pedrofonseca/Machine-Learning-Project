{
 "cells": [
  {
   "cell_type": "code",
   "execution_count": 1,
   "metadata": {},
   "outputs": [],
   "source": [
    "import numpy as np\n",
    "import pandas as pd\n",
    "import seaborn as sns\n",
    "import statsmodels.api as sm \n",
    "import matplotlib.pyplot as plt\n",
    "import os\n",
    "from catboost import CatBoostClassifier, Pool, cv\n",
    "from sklearn.ensemble import RandomForestClassifier,AdaBoostClassifier,GradientBoostingClassifier\n",
    "from sklearn.model_selection import cross_validate\n",
    "from scipy import stats\n",
    "from sklearn.model_selection import train_test_split\n",
    "from sklearn.preprocessing import MinMaxScaler, StandardScaler, OneHotEncoder,LabelEncoder,MaxAbsScaler,RobustScaler\n",
    "from sklearn.metrics import f1_score, accuracy_score\n",
    "from imblearn.over_sampling import BorderlineSMOTE,ADASYN,SMOTE,SVMSMOTE\n",
    "from imblearn.ensemble import BalancedRandomForestClassifier\n",
    "from sklearn.svm import SVC\n",
    "from math import ceil\n",
    "from numpy.random import RandomState\n",
    "from sklearn.metrics import classification_report,confusion_matrix\n",
    "from sklearn.feature_selection import SelectKBest,f_classif,mutual_info_classif\n",
    "from sklearn.model_selection import GridSearchCV  \n",
    "\n",
    "from sklearn.tree import DecisionTreeClassifier\n"
   ]
  },
  {
   "cell_type": "markdown",
   "metadata": {},
   "source": [
    "### Functions"
   ]
  },
  {
   "cell_type": "code",
   "execution_count": null,
   "metadata": {},
   "outputs": [],
   "source": [
    "def bar_charts_categorical(df, feature, target):\n",
    "    cont_tab = pd.crosstab(df[feature], df[target], margins = True)\n",
    "    categories = cont_tab.index[:-1]\n",
    "        \n",
    "    fig = plt.figure(figsize=(15, 5))\n",
    "    \n",
    "    plt.subplot(121)\n",
    "    p1 = plt.bar(categories, cont_tab.iloc[:-1, 0].values, 0.55, color=\"gray\")\n",
    "    p2 = plt.bar(categories, cont_tab.iloc[:-1, 1].values, 0.55, bottom=cont_tab.iloc[:-1, 0], color=\"yellowgreen\")\n",
    "    plt.legend((p2[0], p1[0]), ('$y_i=1$', '$y_i=0$'))\n",
    "    plt.title(\"Frequency bar chart\")\n",
    "    plt.xlabel(feature)\n",
    "    plt.xticks(rotation=\"vertical\")\n",
    "    plt.ylabel(\"$Frequency$\")\n",
    "\n",
    "    # auxiliary data for 122\n",
    "    obs_pct = np.array([np.divide(cont_tab.iloc[:-1, 0].values, cont_tab.iloc[:-1, 2].values), \n",
    "                        np.divide(cont_tab.iloc[:-1, 1].values, cont_tab.iloc[:-1, 2].values)])\n",
    "      \n",
    "    plt.subplot(122)\n",
    "    p1 = plt.bar(categories, obs_pct[0], 0.55, color=\"gray\")\n",
    "    p2 = plt.bar(categories, obs_pct[1], 0.55, bottom=obs_pct[0], color=\"yellowgreen\")\n",
    "    plt.legend((p2[0], p1[0]), ('$y_i=1$', '$y_i=0$'),labelspacing =1)\n",
    "    plt.title(\"Proportion bar chart\")\n",
    "    plt.xlabel(feature)\n",
    "    plt.ylabel(\"$p$\")\n",
    "    plt.xticks(rotation=\"vertical\")\n",
    "    plt.show()\n",
    "    "
   ]
  },
  {
   "cell_type": "code",
   "execution_count": null,
   "metadata": {},
   "outputs": [],
   "source": [
    "def metrics(y_train, pred_train , y_val, pred_val):\n",
    "    print('___________________________________________________________________________________________________________')\n",
    "    print('                                                     TRAIN                                                 ')\n",
    "    print('-----------------------------------------------------------------------------------------------------------')\n",
    "    print(classification_report(y_train, pred_train))\n",
    "    print(confusion_matrix(y_train, pred_train))\n",
    "\n",
    "\n",
    "    print('___________________________________________________________________________________________________________')\n",
    "    print('                                                VALIDATION                                                 ')\n",
    "    print('-----------------------------------------------------------------------------------------------------------')\n",
    "    print(classification_report(y_val, pred_val))\n",
    "    print(confusion_matrix(y_val, pred_val))"
   ]
  },
  {
   "cell_type": "code",
   "execution_count": null,
   "metadata": {},
   "outputs": [],
   "source": [
    "def best_scale(model,X_train,y_train,X_test,y_test):\n",
    "    standard=StandardScaler().fit(X_train).transform(X_train)\n",
    "    standardTest=StandardScaler().fit(X_test).transform(X_test)\n",
    "\n",
    "    minMax=MinMaxScaler().fit(X_train).transform(X_train)\n",
    "    minMaxTest=MinMaxScaler().fit(X_test).transform(X_test)\n",
    "\n",
    "    maxAbs=MaxAbsScaler().fit(X_train).transform(X_train)\n",
    "    maxAbsTest=MaxAbsScaler().fit(X_test).transform(X_test)\n",
    "        \n",
    "    robust=RobustScaler().fit(X_train).transform(X_train)\n",
    "    robustTest=RobustScaler().fit(X_test).transform(X_test)\n",
    "\n",
    "    sclares=[standard,minMax,maxAbs,robust,X_train]\n",
    "    sclaresTest=[standardTest,minMaxTest,maxAbsTest,robustTest,X_test]\n",
    "    \n",
    "    f_score=[]\n",
    "    \n",
    "    for i in range(len(sclares)):\n",
    "        model.fit(sclares[i],y_train)\n",
    "        y_pred=model.predict(sclaresTest[i])\n",
    "        f_score.append(f1_score(y_pred,y_test))\n",
    "        \n",
    "\n",
    "    return pd.DataFrame(f_score,index=[\"Standard\",\"MinMax\",\"MaxAbs\",\"Robust\",\"No Scaler\"], columns=[\"F1 Score\"])\n",
    "    "
   ]
  },
  {
   "cell_type": "markdown",
   "metadata": {},
   "source": [
    "### Reading the Data"
   ]
  },
  {
   "cell_type": "code",
   "execution_count": null,
   "metadata": {},
   "outputs": [],
   "source": [
    "df = pd.read_excel(\"train.xlsx\")\n",
    "df.head()"
   ]
  },
  {
   "cell_type": "code",
   "execution_count": null,
   "metadata": {},
   "outputs": [],
   "source": [
    "original = df.copy()"
   ]
  },
  {
   "cell_type": "code",
   "execution_count": null,
   "metadata": {},
   "outputs": [],
   "source": [
    "df.replace(\"?\", np.nan, inplace=True)\n",
    "df.isna().sum()"
   ]
  },
  {
   "cell_type": "code",
   "execution_count": null,
   "metadata": {},
   "outputs": [],
   "source": [
    "df.isna().sum()/len(df)*100"
   ]
  },
  {
   "cell_type": "code",
   "execution_count": null,
   "metadata": {},
   "outputs": [],
   "source": [
    "df[[\"Gender\",\"Name\"]]=df[\"Name\"].str.split(\" \", n=1,expand=True)\n",
    "df[\"Gender\"].replace([\"Mr.\"],\"M\",inplace=True)\n",
    "df[\"Gender\"].replace([\"Miss\",\"Mrs.\"],\"F\",inplace=True)"
   ]
  },
  {
   "cell_type": "code",
   "execution_count": null,
   "metadata": {},
   "outputs": [],
   "source": [
    "df[[\"Mouth\",\"Year\"]]=df['Birthday'].str.split(\",\",expand=True)\n",
    "df[\"Year\"]=df[\"Year\"].astype(int)\n",
    "df[\"Age\"] = 2046 - df[\"Year\"]"
   ]
  },
  {
   "cell_type": "code",
   "execution_count": null,
   "metadata": {},
   "outputs": [],
   "source": [
    "df.set_index(\"CITIZEN_ID\",inplace=True)"
   ]
  },
  {
   "cell_type": "code",
   "execution_count": null,
   "metadata": {},
   "outputs": [],
   "source": [
    "df.drop([\"Name\",\"Mouth\",\"Year\",\"Birthday\"],inplace=True,axis=1)"
   ]
  },
  {
   "cell_type": "markdown",
   "metadata": {},
   "source": [
    "### New variables"
   ]
  },
  {
   "cell_type": "code",
   "execution_count": null,
   "metadata": {},
   "outputs": [],
   "source": [
    "#df[\"Working Hours per week/age\"]=df[\"Working Hours per week\"]/df[\"Age\"]*100\n",
    "#df[\"Years of Education/age\"]=df[\"Years of Education\"]/df[\"Age\"]*100\n",
    "#df[\"Working Hours per week/Years of Education\"]=df[\"Working Hours per week\"]/df[\"Years of Education\"]"
   ]
  },
  {
   "cell_type": "code",
   "execution_count": null,
   "metadata": {},
   "outputs": [],
   "source": [
    "categorical = df.select_dtypes(include=\"object\").columns.to_list()\n",
    "numerical = df.columns.drop(categorical).drop(\"Income\").to_list()"
   ]
  },
  {
   "cell_type": "markdown",
   "metadata": {},
   "source": [
    "### Visualize"
   ]
  },
  {
   "cell_type": "code",
   "execution_count": null,
   "metadata": {},
   "outputs": [],
   "source": [
    "for i in categorical:   \n",
    "    bar_charts_categorical(df, i, \"Income\")"
   ]
  },
  {
   "cell_type": "code",
   "execution_count": null,
   "metadata": {},
   "outputs": [],
   "source": [
    "df[\"Marital Status\"].replace([\"Married - Spouse in the Army\" ],\"Married\",inplace=True)\n",
    "df[\"Marital Status\"].replace([\"Married - Spouse Missing\" ,\"Widow\",\"Divorced\"],\"Other\",inplace=True)"
   ]
  },
  {
   "cell_type": "code",
   "execution_count": null,
   "metadata": {},
   "outputs": [],
   "source": [
    "df[\"Lives with\"].replace([\"Husband\",\"Wife\" ],\"Partner\",inplace=True)\n",
    "df[\"Lives with\"].replace([\"Other relatives\",\"Children\"],\"Other\",inplace=True)"
   ]
  },
  {
   "cell_type": "code",
   "execution_count": null,
   "metadata": {},
   "outputs": [],
   "source": [
    "#tem demasiadas categorias\n",
    "df.drop([\"Base Area\"],axis=1,inplace=True)\n",
    "categorical.remove(\"Base Area\")"
   ]
  },
  {
   "cell_type": "code",
   "execution_count": null,
   "metadata": {},
   "outputs": [],
   "source": [
    "df[\"Education Level\"].replace([\"High School - 2nd Cycle\",\"High School - 1st Cycle\",\"Middle School Complete\",\"Primary School\",\"Preschool\",\"High School Complete\",\"High School - 1st Cycle\",\"High School - 2nd Cycle\",\"Professional School\",\"Middle School - 1st Cycle\",\"Middle School - 2nd Cycle\"],\"No college degree\",inplace=True)\n",
    "df[\"Education Level\"].replace([\"High School + PostGraduation\",\"Bachelors\",\"Professional School + PostGraduation\"],\"1 Degree\",inplace=True)\n",
    "df[\"Education Level\"].replace([\"Bachelors + PostGraduation\",\"Masters\"],\"2 Degrees\",inplace=True)\n",
    "df[\"Education Level\"].replace([\"Masters + PostGraduation\",\"PhD\"],\"3 Degrees\",inplace=True)"
   ]
  },
  {
   "cell_type": "code",
   "execution_count": null,
   "metadata": {},
   "outputs": [],
   "source": [
    "df[\"Employment Sector\"].replace([\"Private Sector - Services \",\"Private Sector - Others\"],\"Private Sector\",inplace=True)\n",
    "df[\"Employment Sector\"].replace([\"Public Sector - Others\",\"Public Sector - Government\"],\"Public Sector\",inplace=True)\n",
    "df[\"Employment Sector\"].replace([\"Unemployed\",\"Never Worked\"],\"Other\",inplace=True)"
   ]
  },
  {
   "cell_type": "code",
   "execution_count": null,
   "metadata": {},
   "outputs": [],
   "source": [
    "df[\"Role\"].replace([\"Cleaners & Handlers\",\"Machine Operators & Inspectors\",\"Administratives\",\"Agriculture and Fishing\",\"Household Services\"],\"Other services\",inplace=True)"
   ]
  },
  {
   "cell_type": "code",
   "execution_count": null,
   "metadata": {},
   "outputs": [],
   "source": [
    "for i in categorical:   \n",
    "    bar_charts_categorical(df, i, \"Income\")"
   ]
  },
  {
   "cell_type": "code",
   "execution_count": null,
   "metadata": {},
   "outputs": [],
   "source": [
    "sns.set()\n",
    "fig, axes = plt.subplots(len(numerical), ceil(len(numerical) / len(numerical)), figsize=(20, 20))\n",
    "for ax, feat in zip(axes.flatten(), numerical):\n",
    "    sns.boxplot(x=df[feat], ax=ax) \n",
    "plt.show()"
   ]
  },
  {
   "cell_type": "markdown",
   "metadata": {},
   "source": [
    "### Fill Missing Values"
   ]
  },
  {
   "cell_type": "code",
   "execution_count": null,
   "metadata": {},
   "outputs": [],
   "source": [
    "modes = df[categorical].mode().loc[0]\n",
    "df.fillna(modes,inplace=True)"
   ]
  },
  {
   "cell_type": "markdown",
   "metadata": {},
   "source": [
    "### Removing Outliers"
   ]
  },
  {
   "cell_type": "code",
   "execution_count": null,
   "metadata": {},
   "outputs": [],
   "source": [
    "filters = (\n",
    "    (df[\"Working Hours per week\"]>7)\n",
    "    & \n",
    "    (df[\"Years of Education\"]<20)\n",
    "    &\n",
    "    (df[\"Ticket Price\"]<4000)\n",
    "    &\n",
    "    (df[\"Money Received\"]<120000))\n",
    "\n",
    "df1=df[filters]\n",
    "print('Percentage of data kept after removing outliers:', np.round(df1.shape[0] / original.shape[0], 4))\n",
    "df=df1.copy()"
   ]
  },
  {
   "cell_type": "markdown",
   "metadata": {},
   "source": [
    "### Separating X and Y"
   ]
  },
  {
   "cell_type": "code",
   "execution_count": null,
   "metadata": {},
   "outputs": [],
   "source": [
    "X=df.drop([\"Income\",\"Native Continent\"],axis=1)\n",
    "y=df.loc[:,\"Income\"]\n",
    "categorical=X.select_dtypes(include=\"object\").columns.to_list()"
   ]
  },
  {
   "cell_type": "markdown",
   "metadata": {},
   "source": [
    "### One Hot Encoder"
   ]
  },
  {
   "cell_type": "code",
   "execution_count": null,
   "metadata": {},
   "outputs": [],
   "source": [
    "df_ohc = X.copy()\n",
    "categorical=X.select_dtypes(include=\"object\").columns.to_list()\n",
    "ohc = OneHotEncoder(sparse=False, drop=\"first\")\n",
    "ohc_feat = ohc.fit_transform(df_ohc[categorical])\n",
    "ohc_feat_names = ohc.get_feature_names(categorical)\n",
    "ohc_df = pd.DataFrame(ohc_feat, index=df_ohc.index, columns=ohc_feat_names)  # Why the index=df_ohc.index?\n",
    "# Reassigning df to contain ohc variables\n",
    "df_ohc = pd.concat([ohc_df,df_ohc.drop(columns=categorical)], axis=1)\n",
    "X=df_ohc.copy()\n",
    "X.head()"
   ]
  },
  {
   "cell_type": "markdown",
   "metadata": {},
   "source": [
    "## Data Splitting"
   ]
  },
  {
   "cell_type": "code",
   "execution_count": null,
   "metadata": {},
   "outputs": [],
   "source": [
    "X_train, X_test, y_train, y_test = train_test_split(X, y, train_size=0.8, random_state=42) "
   ]
  },
  {
   "cell_type": "markdown",
   "metadata": {},
   "source": [
    "### Model"
   ]
  },
  {
   "cell_type": "code",
   "execution_count": null,
   "metadata": {},
   "outputs": [],
   "source": []
  },
  {
   "cell_type": "code",
   "execution_count": null,
   "metadata": {},
   "outputs": [],
   "source": []
  },
  {
   "cell_type": "code",
   "execution_count": null,
   "metadata": {},
   "outputs": [],
   "source": []
  },
  {
   "cell_type": "code",
   "execution_count": null,
   "metadata": {},
   "outputs": [],
   "source": []
  },
  {
   "cell_type": "code",
   "execution_count": null,
   "metadata": {},
   "outputs": [],
   "source": []
  },
  {
   "cell_type": "code",
   "execution_count": null,
   "metadata": {},
   "outputs": [],
   "source": []
  },
  {
   "cell_type": "code",
   "execution_count": null,
   "metadata": {},
   "outputs": [],
   "source": []
  }
 ],
 "metadata": {
  "kernelspec": {
   "display_name": "Python 3",
   "language": "python",
   "name": "python3"
  },
  "language_info": {
   "codemirror_mode": {
    "name": "ipython",
    "version": 3
   },
   "file_extension": ".py",
   "mimetype": "text/x-python",
   "name": "python",
   "nbconvert_exporter": "python",
   "pygments_lexer": "ipython3",
   "version": "3.8.3"
  }
 },
 "nbformat": 4,
 "nbformat_minor": 4
}
